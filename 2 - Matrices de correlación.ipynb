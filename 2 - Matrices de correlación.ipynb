{
 "cells": [
  {
   "cell_type": "markdown",
   "id": "6420440a",
   "metadata": {},
   "source": [
    "# <font color='blue'> Matrices de correlación locales </font>\n",
    "\n",
    "El objetivo de este notebook es ejemplificar el cálculo, acomodo y graficación de matrices de correlación de forma local."
   ]
  },
  {
   "cell_type": "markdown",
   "id": "0e78ade1",
   "metadata": {},
   "source": [
    "## <font color='crimson'> Importar los datos </font>"
   ]
  },
  {
   "cell_type": "code",
   "execution_count": 18,
   "id": "96cb951e",
   "metadata": {},
   "outputs": [],
   "source": [
    "import matplotlib.pyplot as plt\n",
    "import matplotlib.colors\n",
    "import pandas as pd\n",
    "import numpy as np"
   ]
  },
  {
   "cell_type": "markdown",
   "id": "8e7f779a",
   "metadata": {},
   "source": [
    "**Datos disponibles en csv**:"
   ]
  },
  {
   "cell_type": "code",
   "execution_count": 6,
   "id": "2af090ec",
   "metadata": {},
   "outputs": [
    {
     "name": "stdout",
     "output_type": "stream",
     "text": [
      "returns^MXX_from2008-09-15_to2022-05-17_downloaded20230517.csv\r\n",
      "returns^MXX_from2008-09-15_to2022-06-16_downloaded20220616.csv\r\n",
      "returns_SP500.csv\r\n",
      "stockPrices_downloaded20230517.csv\r\n"
     ]
    }
   ],
   "source": [
    "dataLocation='./data'\n",
    "!ls {dataLocation} | grep .csv"
   ]
  },
  {
   "cell_type": "code",
   "execution_count": 7,
   "id": "9fecd16b",
   "metadata": {},
   "outputs": [
    {
     "data": {
      "text/html": [
       "<div>\n",
       "<style scoped>\n",
       "    .dataframe tbody tr th:only-of-type {\n",
       "        vertical-align: middle;\n",
       "    }\n",
       "\n",
       "    .dataframe tbody tr th {\n",
       "        vertical-align: top;\n",
       "    }\n",
       "\n",
       "    .dataframe thead th {\n",
       "        text-align: right;\n",
       "    }\n",
       "</style>\n",
       "<table border=\"1\" class=\"dataframe\">\n",
       "  <thead>\n",
       "    <tr style=\"text-align: right;\">\n",
       "      <th></th>\n",
       "      <th>LABB.MX</th>\n",
       "      <th>GENTERA.MX</th>\n",
       "      <th>WMT.MX</th>\n",
       "    </tr>\n",
       "  </thead>\n",
       "  <tbody>\n",
       "    <tr>\n",
       "      <th>2010-12-30</th>\n",
       "      <td>25.710072</td>\n",
       "      <td>18.476227</td>\n",
       "      <td>650.904663</td>\n",
       "    </tr>\n",
       "    <tr>\n",
       "      <th>2011-01-03</th>\n",
       "      <td>26.457203</td>\n",
       "      <td>18.545977</td>\n",
       "      <td>657.174255</td>\n",
       "    </tr>\n",
       "    <tr>\n",
       "      <th>2011-01-04</th>\n",
       "      <td>26.518732</td>\n",
       "      <td>18.427408</td>\n",
       "      <td>657.174255</td>\n",
       "    </tr>\n",
       "    <tr>\n",
       "      <th>2011-01-05</th>\n",
       "      <td>27.239491</td>\n",
       "      <td>17.939169</td>\n",
       "      <td>654.815674</td>\n",
       "    </tr>\n",
       "    <tr>\n",
       "      <th>2011-01-06</th>\n",
       "      <td>27.511972</td>\n",
       "      <td>17.688078</td>\n",
       "      <td>647.121521</td>\n",
       "    </tr>\n",
       "    <tr>\n",
       "      <th>...</th>\n",
       "      <td>...</td>\n",
       "      <td>...</td>\n",
       "      <td>...</td>\n",
       "    </tr>\n",
       "    <tr>\n",
       "      <th>2022-05-10</th>\n",
       "      <td>18.047804</td>\n",
       "      <td>14.037169</td>\n",
       "      <td>3033.468262</td>\n",
       "    </tr>\n",
       "    <tr>\n",
       "      <th>2022-05-11</th>\n",
       "      <td>17.664007</td>\n",
       "      <td>14.377904</td>\n",
       "      <td>2993.501709</td>\n",
       "    </tr>\n",
       "    <tr>\n",
       "      <th>2022-05-12</th>\n",
       "      <td>17.439342</td>\n",
       "      <td>13.774435</td>\n",
       "      <td>2983.010498</td>\n",
       "    </tr>\n",
       "    <tr>\n",
       "      <th>2022-05-13</th>\n",
       "      <td>17.982275</td>\n",
       "      <td>13.985171</td>\n",
       "      <td>2962.527344</td>\n",
       "    </tr>\n",
       "    <tr>\n",
       "      <th>2022-05-16</th>\n",
       "      <td>18.384792</td>\n",
       "      <td>14.492851</td>\n",
       "      <td>2995.489990</td>\n",
       "    </tr>\n",
       "  </tbody>\n",
       "</table>\n",
       "<p>2854 rows × 3 columns</p>\n",
       "</div>"
      ],
      "text/plain": [
       "              LABB.MX  GENTERA.MX       WMT.MX\n",
       "2010-12-30  25.710072   18.476227   650.904663\n",
       "2011-01-03  26.457203   18.545977   657.174255\n",
       "2011-01-04  26.518732   18.427408   657.174255\n",
       "2011-01-05  27.239491   17.939169   654.815674\n",
       "2011-01-06  27.511972   17.688078   647.121521\n",
       "...               ...         ...          ...\n",
       "2022-05-10  18.047804   14.037169  3033.468262\n",
       "2022-05-11  17.664007   14.377904  2993.501709\n",
       "2022-05-12  17.439342   13.774435  2983.010498\n",
       "2022-05-13  17.982275   13.985171  2962.527344\n",
       "2022-05-16  18.384792   14.492851  2995.489990\n",
       "\n",
       "[2854 rows x 3 columns]"
      ]
     },
     "execution_count": 7,
     "metadata": {},
     "output_type": "execute_result"
    }
   ],
   "source": [
    "dataName='stockPrices_downloaded20230517.csv'\n",
    "\n",
    "data=pd.read_csv(\n",
    "    f'{dataLocation}/{dataName}',\n",
    "    index_col=0,\n",
    "    parse_dates=True\n",
    ")\n",
    "\n",
    "data"
   ]
  },
  {
   "cell_type": "markdown",
   "id": "ae1ed05d",
   "metadata": {},
   "source": [
    "En un `DataFrame` de Pandas ya es más fácil calcular, por ejemplo, los rendimientos (logarítmicos):"
   ]
  },
  {
   "cell_type": "code",
   "execution_count": 14,
   "id": "1f320d52",
   "metadata": {},
   "outputs": [
    {
     "data": {
      "text/html": [
       "<div>\n",
       "<style scoped>\n",
       "    .dataframe tbody tr th:only-of-type {\n",
       "        vertical-align: middle;\n",
       "    }\n",
       "\n",
       "    .dataframe tbody tr th {\n",
       "        vertical-align: top;\n",
       "    }\n",
       "\n",
       "    .dataframe thead th {\n",
       "        text-align: right;\n",
       "    }\n",
       "</style>\n",
       "<table border=\"1\" class=\"dataframe\">\n",
       "  <thead>\n",
       "    <tr style=\"text-align: right;\">\n",
       "      <th></th>\n",
       "      <th>LABB.MX</th>\n",
       "      <th>GENTERA.MX</th>\n",
       "      <th>WMT.MX</th>\n",
       "    </tr>\n",
       "  </thead>\n",
       "  <tbody>\n",
       "    <tr>\n",
       "      <th>2011-01-03</th>\n",
       "      <td>0.028646</td>\n",
       "      <td>0.003768</td>\n",
       "      <td>0.009586</td>\n",
       "    </tr>\n",
       "    <tr>\n",
       "      <th>2011-01-04</th>\n",
       "      <td>0.002323</td>\n",
       "      <td>-0.006414</td>\n",
       "      <td>0.000000</td>\n",
       "    </tr>\n",
       "    <tr>\n",
       "      <th>2011-01-05</th>\n",
       "      <td>0.026816</td>\n",
       "      <td>-0.026853</td>\n",
       "      <td>-0.003595</td>\n",
       "    </tr>\n",
       "    <tr>\n",
       "      <th>2011-01-06</th>\n",
       "      <td>0.009953</td>\n",
       "      <td>-0.014096</td>\n",
       "      <td>-0.011820</td>\n",
       "    </tr>\n",
       "    <tr>\n",
       "      <th>2011-01-07</th>\n",
       "      <td>0.007955</td>\n",
       "      <td>-0.036952</td>\n",
       "      <td>0.000000</td>\n",
       "    </tr>\n",
       "    <tr>\n",
       "      <th>...</th>\n",
       "      <td>...</td>\n",
       "      <td>...</td>\n",
       "      <td>...</td>\n",
       "    </tr>\n",
       "    <tr>\n",
       "      <th>2022-05-10</th>\n",
       "      <td>-0.023072</td>\n",
       "      <td>-0.003339</td>\n",
       "      <td>-0.023439</td>\n",
       "    </tr>\n",
       "    <tr>\n",
       "      <th>2022-05-11</th>\n",
       "      <td>-0.021495</td>\n",
       "      <td>0.023984</td>\n",
       "      <td>-0.013263</td>\n",
       "    </tr>\n",
       "    <tr>\n",
       "      <th>2022-05-12</th>\n",
       "      <td>-0.012800</td>\n",
       "      <td>-0.042878</td>\n",
       "      <td>-0.003511</td>\n",
       "    </tr>\n",
       "    <tr>\n",
       "      <th>2022-05-13</th>\n",
       "      <td>0.030658</td>\n",
       "      <td>0.015183</td>\n",
       "      <td>-0.006890</td>\n",
       "    </tr>\n",
       "    <tr>\n",
       "      <th>2022-05-16</th>\n",
       "      <td>0.022137</td>\n",
       "      <td>0.035658</td>\n",
       "      <td>0.011065</td>\n",
       "    </tr>\n",
       "  </tbody>\n",
       "</table>\n",
       "<p>2853 rows × 3 columns</p>\n",
       "</div>"
      ],
      "text/plain": [
       "             LABB.MX  GENTERA.MX    WMT.MX\n",
       "2011-01-03  0.028646    0.003768  0.009586\n",
       "2011-01-04  0.002323   -0.006414  0.000000\n",
       "2011-01-05  0.026816   -0.026853 -0.003595\n",
       "2011-01-06  0.009953   -0.014096 -0.011820\n",
       "2011-01-07  0.007955   -0.036952  0.000000\n",
       "...              ...         ...       ...\n",
       "2022-05-10 -0.023072   -0.003339 -0.023439\n",
       "2022-05-11 -0.021495    0.023984 -0.013263\n",
       "2022-05-12 -0.012800   -0.042878 -0.003511\n",
       "2022-05-13  0.030658    0.015183 -0.006890\n",
       "2022-05-16  0.022137    0.035658  0.011065\n",
       "\n",
       "[2853 rows x 3 columns]"
      ]
     },
     "execution_count": 14,
     "metadata": {},
     "output_type": "execute_result"
    }
   ],
   "source": [
    "dataLogRets=np.log(data).diff(axis=0).iloc[1:]\n",
    "dataLogRets"
   ]
  },
  {
   "cell_type": "code",
   "execution_count": 42,
   "id": "19b95c9b",
   "metadata": {},
   "outputs": [
    {
     "data": {
      "text/plain": [
       "array([<Axes: >, <Axes: >, <Axes: >], dtype=object)"
      ]
     },
     "execution_count": 42,
     "metadata": {},
     "output_type": "execute_result"
    },
    {
     "data": {
      "image/png": "[encoded data removed]",
      "text/plain": [
       "<Figure size 640x480 with 3 Axes>"
      ]
     },
     "metadata": {},
     "output_type": "display_data"
    }
   ],
   "source": [
    "dataLogRets.plot(\n",
    "    subplots=True,\n",
    "    grid=True\n",
    ")"
   ]
  },
  {
   "cell_type": "markdown",
   "id": "642042d1",
   "metadata": {},
   "source": [
    "## <font color='crimson'> Matriz de correlación </font>\n",
    "\n",
    "### Global"
   ]
  },
  {
   "cell_type": "markdown",
   "id": "51cd8b23",
   "metadata": {},
   "source": [
    "Primero calculamos la matriz de correlación. Las instancias `DataFrame` de Pandas tienen un método útil: `DataFrame.corr()`."
   ]
  },
  {
   "cell_type": "code",
   "execution_count": 43,
   "id": "be407aba",
   "metadata": {},
   "outputs": [
    {
     "data": {
      "text/html": [
       "<div>\n",
       "<style scoped>\n",
       "    .dataframe tbody tr th:only-of-type {\n",
       "        vertical-align: middle;\n",
       "    }\n",
       "\n",
       "    .dataframe tbody tr th {\n",
       "        vertical-align: top;\n",
       "    }\n",
       "\n",
       "    .dataframe thead th {\n",
       "        text-align: right;\n",
       "    }\n",
       "</style>\n",
       "<table border=\"1\" class=\"dataframe\">\n",
       "  <thead>\n",
       "    <tr style=\"text-align: right;\">\n",
       "      <th></th>\n",
       "      <th>LABB.MX</th>\n",
       "      <th>GENTERA.MX</th>\n",
       "      <th>WMT.MX</th>\n",
       "    </tr>\n",
       "  </thead>\n",
       "  <tbody>\n",
       "    <tr>\n",
       "      <th>LABB.MX</th>\n",
       "      <td>1.000000</td>\n",
       "      <td>0.187453</td>\n",
       "      <td>-0.030994</td>\n",
       "    </tr>\n",
       "    <tr>\n",
       "      <th>GENTERA.MX</th>\n",
       "      <td>0.187453</td>\n",
       "      <td>1.000000</td>\n",
       "      <td>-0.011101</td>\n",
       "    </tr>\n",
       "    <tr>\n",
       "      <th>WMT.MX</th>\n",
       "      <td>-0.030994</td>\n",
       "      <td>-0.011101</td>\n",
       "      <td>1.000000</td>\n",
       "    </tr>\n",
       "  </tbody>\n",
       "</table>\n",
       "</div>"
      ],
      "text/plain": [
       "             LABB.MX  GENTERA.MX    WMT.MX\n",
       "LABB.MX     1.000000    0.187453 -0.030994\n",
       "GENTERA.MX  0.187453    1.000000 -0.011101\n",
       "WMT.MX     -0.030994   -0.011101  1.000000"
      ]
     },
     "execution_count": 43,
     "metadata": {},
     "output_type": "execute_result"
    }
   ],
   "source": [
    "corrGlob=dataLogRets.corr()\n",
    "corrGlob"
   ]
  },
  {
   "cell_type": "markdown",
   "id": "95969005",
   "metadata": {},
   "source": [
    "Clase auxiliar para graficar"
   ]
  },
  {
   "cell_type": "code",
   "execution_count": 19,
   "id": "a67f2ee4",
   "metadata": {},
   "outputs": [],
   "source": [
    "class MidpointNormalize(matplotlib.colors.Normalize):\n",
    "    def __init__(self, vmin=None, vmax=None, midpoint=None, clip=False):\n",
    "        self.midpoint = midpoint\n",
    "        matplotlib.colors.Normalize.__init__(self, vmin, vmax, clip)\n",
    "\n",
    "    def __call__(self, value, clip=None):\n",
    "        x, y = [self.vmin, self.midpoint, self.vmax], [0, 0.5, 1]\n",
    "        return np.ma.masked_array(np.interp(value, x, y), np.isnan(value))"
   ]
  },
  {
   "cell_type": "markdown",
   "id": "fe866db1",
   "metadata": {},
   "source": [
    "Graficamos con unos colores bien bergas."
   ]
  },
  {
   "cell_type": "code",
   "execution_count": 22,
   "id": "6b46d138",
   "metadata": {},
   "outputs": [
    {
     "data": {
      "image/png": "[encoded data removed]",
      "text/plain": [
       "<Figure size 800x800 with 2 Axes>"
      ]
     },
     "metadata": {},
     "output_type": "display_data"
    }
   ],
   "source": [
    "%matplotlib inline\n",
    "coloresCorr='seismic_r' #plt.cm.BuPu_r,'cool', 'bwr_r'\n",
    "normaCorr=MidpointNormalize(\n",
    "    midpoint=0.,vmin=-1,vmax=1\n",
    ")\n",
    "\n",
    "fig, axes = plt.subplots(\n",
    "    nrows=1, ncols=1, \n",
    "    figsize=(8,8)\n",
    ")\n",
    "\n",
    "cax=axes.matshow(\n",
    "    corrGlob,\n",
    "    cmap=coloresCorr\n",
    ")\n",
    "fig.colorbar(cax,shrink=0.82)\n",
    "\n",
    "axes.set_title(\n",
    "    'Componentes: {}'.format(\n",
    "        ','.join(data.columns.values)\n",
    "    ),\n",
    "    fontsize=15\n",
    ")\n",
    "\n",
    "plt.suptitle(\n",
    "    'Matriz de correlación ({:%m/%Y} - {:%m/%Y})'.format(\n",
    "        dataLogRets.index[0],\n",
    "        dataLogRets.index[-1]\n",
    "    ),\n",
    "    fontsize=18\n",
    ")\n",
    "\n",
    "plt.show()"
   ]
  },
  {
   "cell_type": "markdown",
   "id": "ce7f23ad",
   "metadata": {},
   "source": [
    "Se puede guardar la tabla de los rendimientos logarítmicos en formato `CSV`:"
   ]
  },
  {
   "cell_type": "code",
   "execution_count": 23,
   "id": "84cc1a90",
   "metadata": {},
   "outputs": [],
   "source": [
    "dataLogRets.to_csv(f'{dataLocation}/rendimientos.csv')"
   ]
  },
  {
   "cell_type": "markdown",
   "id": "ef5ff324",
   "metadata": {},
   "source": [
    "### Local"
   ]
  },
  {
   "cell_type": "code",
   "execution_count": 45,
   "id": "ed269f70",
   "metadata": {},
   "outputs": [
    {
     "data": {
      "text/html": [
       "<div>\n",
       "<style scoped>\n",
       "    .dataframe tbody tr th:only-of-type {\n",
       "        vertical-align: middle;\n",
       "    }\n",
       "\n",
       "    .dataframe tbody tr th {\n",
       "        vertical-align: top;\n",
       "    }\n",
       "\n",
       "    .dataframe thead th {\n",
       "        text-align: right;\n",
       "    }\n",
       "</style>\n",
       "<table border=\"1\" class=\"dataframe\">\n",
       "  <thead>\n",
       "    <tr style=\"text-align: right;\">\n",
       "      <th></th>\n",
       "      <th>LABB.MX</th>\n",
       "      <th>GENTERA.MX</th>\n",
       "      <th>WMT.MX</th>\n",
       "    </tr>\n",
       "  </thead>\n",
       "  <tbody>\n",
       "    <tr>\n",
       "      <th>2016-01-04</th>\n",
       "      <td>0.039637</td>\n",
       "      <td>-0.047591</td>\n",
       "      <td>-0.005521</td>\n",
       "    </tr>\n",
       "    <tr>\n",
       "      <th>2016-01-05</th>\n",
       "      <td>-0.045430</td>\n",
       "      <td>0.011257</td>\n",
       "      <td>0.035452</td>\n",
       "    </tr>\n",
       "    <tr>\n",
       "      <th>2016-01-06</th>\n",
       "      <td>-0.008753</td>\n",
       "      <td>-0.008431</td>\n",
       "      <td>0.016725</td>\n",
       "    </tr>\n",
       "    <tr>\n",
       "      <th>2016-01-07</th>\n",
       "      <td>-0.029742</td>\n",
       "      <td>-0.041619</td>\n",
       "      <td>0.038218</td>\n",
       "    </tr>\n",
       "    <tr>\n",
       "      <th>2016-01-08</th>\n",
       "      <td>-0.015209</td>\n",
       "      <td>-0.002291</td>\n",
       "      <td>0.010683</td>\n",
       "    </tr>\n",
       "    <tr>\n",
       "      <th>...</th>\n",
       "      <td>...</td>\n",
       "      <td>...</td>\n",
       "      <td>...</td>\n",
       "    </tr>\n",
       "    <tr>\n",
       "      <th>2017-12-22</th>\n",
       "      <td>0.000987</td>\n",
       "      <td>0.013097</td>\n",
       "      <td>0.024988</td>\n",
       "    </tr>\n",
       "    <tr>\n",
       "      <th>2017-12-26</th>\n",
       "      <td>0.008841</td>\n",
       "      <td>-0.011215</td>\n",
       "      <td>0.011756</td>\n",
       "    </tr>\n",
       "    <tr>\n",
       "      <th>2017-12-27</th>\n",
       "      <td>0.014081</td>\n",
       "      <td>0.011215</td>\n",
       "      <td>-0.013439</td>\n",
       "    </tr>\n",
       "    <tr>\n",
       "      <th>2017-12-28</th>\n",
       "      <td>-0.006773</td>\n",
       "      <td>0.003711</td>\n",
       "      <td>0.007322</td>\n",
       "    </tr>\n",
       "    <tr>\n",
       "      <th>2017-12-29</th>\n",
       "      <td>-0.003891</td>\n",
       "      <td>0.011660</td>\n",
       "      <td>-0.003072</td>\n",
       "    </tr>\n",
       "  </tbody>\n",
       "</table>\n",
       "<p>503 rows × 3 columns</p>\n",
       "</div>"
      ],
      "text/plain": [
       "             LABB.MX  GENTERA.MX    WMT.MX\n",
       "2016-01-04  0.039637   -0.047591 -0.005521\n",
       "2016-01-05 -0.045430    0.011257  0.035452\n",
       "2016-01-06 -0.008753   -0.008431  0.016725\n",
       "2016-01-07 -0.029742   -0.041619  0.038218\n",
       "2016-01-08 -0.015209   -0.002291  0.010683\n",
       "...              ...         ...       ...\n",
       "2017-12-22  0.000987    0.013097  0.024988\n",
       "2017-12-26  0.008841   -0.011215  0.011756\n",
       "2017-12-27  0.014081    0.011215 -0.013439\n",
       "2017-12-28 -0.006773    0.003711  0.007322\n",
       "2017-12-29 -0.003891    0.011660 -0.003072\n",
       "\n",
       "[503 rows x 3 columns]"
      ]
     },
     "execution_count": 45,
     "metadata": {},
     "output_type": "execute_result"
    }
   ],
   "source": [
    "dateFirst='2016'\n",
    "dateLast='2017'\n",
    "\n",
    "dataLogRets.loc[dateFirst:dateLast]"
   ]
  },
  {
   "cell_type": "markdown",
   "id": "8caf0ff4",
   "metadata": {},
   "source": [
    "Calcular la correlación correspondiente:"
   ]
  },
  {
   "cell_type": "code",
   "execution_count": 46,
   "id": "ba38880b",
   "metadata": {},
   "outputs": [],
   "source": [
    "corrLoc=dataLogRets.loc[dateFirst:dateLast].corr()"
   ]
  },
  {
   "cell_type": "markdown",
   "id": "0c0836a6",
   "metadata": {},
   "source": [
    "Grafiquita:"
   ]
  },
  {
   "cell_type": "code",
   "execution_count": 47,
   "id": "aaa4ff5b",
   "metadata": {},
   "outputs": [
    {
     "data": {
      "image/png": "[encoded data removed]",
      "text/plain": [
       "<Figure size 800x800 with 2 Axes>"
      ]
     },
     "metadata": {},
     "output_type": "display_data"
    }
   ],
   "source": [
    "%matplotlib inline\n",
    "\n",
    "fig, axes = plt.subplots(\n",
    "    nrows=1, ncols=1, \n",
    "    figsize=(8,8)\n",
    ")\n",
    "\n",
    "cax=axes.matshow(\n",
    "    corrLoc,\n",
    "    cmap=coloresCorr\n",
    ")\n",
    "fig.colorbar(cax,shrink=0.82)\n",
    "\n",
    "axes.set_title(\n",
    "    'Componentes: {}'.format(\n",
    "        ','.join(data.columns.values)\n",
    "    ),\n",
    "    fontsize=15\n",
    ")\n",
    "\n",
    "plt.suptitle(\n",
    "    'Matriz de correlación local ({} - {})'.format(\n",
    "        dateFirst,\n",
    "        dateLast\n",
    "    ),\n",
    "    fontsize=18\n",
    ")\n",
    "\n",
    "plt.show()"
   ]
  },
  {
   "cell_type": "markdown",
   "id": "bb76232d",
   "metadata": {},
   "source": [
    "**¿Qué tanto difieren las matrices local y global?**"
   ]
  },
  {
   "cell_type": "code",
   "execution_count": 48,
   "id": "93bfe4c8",
   "metadata": {},
   "outputs": [
    {
     "data": {
      "text/html": [
       "<div>\n",
       "<style scoped>\n",
       "    .dataframe tbody tr th:only-of-type {\n",
       "        vertical-align: middle;\n",
       "    }\n",
       "\n",
       "    .dataframe tbody tr th {\n",
       "        vertical-align: top;\n",
       "    }\n",
       "\n",
       "    .dataframe thead th {\n",
       "        text-align: right;\n",
       "    }\n",
       "</style>\n",
       "<table border=\"1\" class=\"dataframe\">\n",
       "  <thead>\n",
       "    <tr style=\"text-align: right;\">\n",
       "      <th></th>\n",
       "      <th>LABB.MX</th>\n",
       "      <th>GENTERA.MX</th>\n",
       "      <th>WMT.MX</th>\n",
       "    </tr>\n",
       "  </thead>\n",
       "  <tbody>\n",
       "    <tr>\n",
       "      <th>LABB.MX</th>\n",
       "      <td>0.000000</td>\n",
       "      <td>0.028731</td>\n",
       "      <td>0.017928</td>\n",
       "    </tr>\n",
       "    <tr>\n",
       "      <th>GENTERA.MX</th>\n",
       "      <td>0.028731</td>\n",
       "      <td>0.000000</td>\n",
       "      <td>0.105062</td>\n",
       "    </tr>\n",
       "    <tr>\n",
       "      <th>WMT.MX</th>\n",
       "      <td>0.017928</td>\n",
       "      <td>0.105062</td>\n",
       "      <td>0.000000</td>\n",
       "    </tr>\n",
       "  </tbody>\n",
       "</table>\n",
       "</div>"
      ],
      "text/plain": [
       "             LABB.MX  GENTERA.MX    WMT.MX\n",
       "LABB.MX     0.000000    0.028731  0.017928\n",
       "GENTERA.MX  0.028731    0.000000  0.105062\n",
       "WMT.MX      0.017928    0.105062  0.000000"
      ]
     },
     "execution_count": 48,
     "metadata": {},
     "output_type": "execute_result"
    }
   ],
   "source": [
    "(corrLoc-corrGlob).abs()"
   ]
  },
  {
   "cell_type": "code",
   "execution_count": null,
   "id": "059028b4",
   "metadata": {},
   "outputs": [],
   "source": []
  }
 ],
 "metadata": {
  "kernelspec": {
   "display_name": "Python 3 (ipykernel)",
   "language": "python",
   "name": "python3"
  },
  "language_info": {
   "codemirror_mode": {
    "name": "ipython",
    "version": 3
   },
   "file_extension": ".py",
   "mimetype": "text/x-python",
   "name": "python",
   "nbconvert_exporter": "python",
   "pygments_lexer": "ipython3",
   "version": "3.10.10"
  }
 },
 "nbformat": 4,
 "nbformat_minor": 5
}
