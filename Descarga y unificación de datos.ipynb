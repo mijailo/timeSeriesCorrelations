{
 "cells": [
  {
   "cell_type": "markdown",
   "metadata": {},
   "source": [
    "# Importar bibliotecas o módulos"
   ]
  },
  {
   "cell_type": "code",
   "execution_count": 1,
   "metadata": {},
   "outputs": [],
   "source": [
    "from IPython.display import clear_output\n",
    "import numpy as np\n",
    "import pandas as pd\n",
    "import matplotlib.pyplot as plt\n",
    "\n",
    "import json\n",
    "import ec_phys as ep"
   ]
  },
  {
   "cell_type": "markdown",
   "metadata": {},
   "source": [
    "# Bajar datos del índice\n",
    "\n",
    "El objetivo es bajar la lista de componentes del [BMV/IPC](https://www.bmv.com.mx/es/indices/principales/) _(Bolsa Mexicana de Valores / Índice de Precios y Cotizaciones)_ y obtener series de tiempo de [Yahoo Finance](https://finance.yahoo.com/). Como ejemplo, vamos a descargar el índice a partir de su símbolo _ticker_. Puedes recuperar todas las compañías componentes de [esta](https://espanol.spindices.com/indices/equity/sp-bmv-ipc) página."
   ]
  },
  {
   "cell_type": "code",
   "execution_count": 2,
   "metadata": {
    "scrolled": true
   },
   "outputs": [
    {
     "name": "stdout",
     "output_type": "stream",
     "text": [
      "Los datos para ^MXX se bajaron sin pedos.\n",
      "\n",
      "Hay un total de 2501 registros.\n"
     ]
    }
   ],
   "source": [
    "bmv=ep.TimeSeries('^MXX',(2010,1,1),(2019,12,31)) #En formato (AAAA,MM,DD)::tuple"
   ]
  },
  {
   "cell_type": "markdown",
   "metadata": {},
   "source": [
    "**`bmv` es una instancia de la clase TimeSeries(), y tiene los siguientes atributos: `info` y `data`:**"
   ]
  },
  {
   "cell_type": "code",
   "execution_count": 3,
   "metadata": {},
   "outputs": [
    {
     "data": {
      "text/plain": [
       "{'symbol': '^MXX',\n",
       " 'name': 'IPC MEXICO',\n",
       " 'exch': 'MEX',\n",
       " 'type': 'I',\n",
       " 'exchDisp': 'Mexico',\n",
       " 'typeDisp': 'Index'}"
      ]
     },
     "execution_count": 3,
     "metadata": {},
     "output_type": "execute_result"
    }
   ],
   "source": [
    "bmv.info"
   ]
  },
  {
   "cell_type": "code",
   "execution_count": 4,
   "metadata": {},
   "outputs": [
    {
     "data": {
      "text/plain": [
       "[{'date': '2010-01-04',\n",
       "  'open': 32120.740234,\n",
       "  'high': 32758.529297,\n",
       "  'low': 32120.740234,\n",
       "  'close': 32758.529297,\n",
       "  'adj_close': 32758.529297,\n",
       "  'volume': 136257800},\n",
       " {'date': '2010-01-05',\n",
       "  'open': 32729.300781,\n",
       "  'high': 33073.710938,\n",
       "  'low': 32628.240234,\n",
       "  'close': 32732.759766,\n",
       "  'adj_close': 32732.759766,\n",
       "  'volume': 165541900}]"
      ]
     },
     "execution_count": 4,
     "metadata": {},
     "output_type": "execute_result"
    }
   ],
   "source": [
    "bmv.data[0:2] #Acá tomo sólo una rebanada porque es una lista con chingos de registros."
   ]
  },
  {
   "cell_type": "markdown",
   "metadata": {},
   "source": [
    "# Conseguir el símbolo bursátil (ticker) de una compañía\n",
    "\n",
    "Primero pensamos en el nombre de una compañía: `Banco del Bajio`, y lo usamos dentro de una cadena (`str`) con palabras clave para conseguir las características. Las acciones cotizadas en la BMV tienen el sufijo `.MX`."
   ]
  },
  {
   "cell_type": "code",
   "execution_count": 5,
   "metadata": {},
   "outputs": [
    {
     "name": "stdout",
     "output_type": "stream",
     "text": [
      "\n",
      " ***** \n",
      "\n",
      "Opción 0:\n",
      " {'symbol': 'BBAJF', 'name': 'Banco del Bajio, S.A., Institucion de Banca Multiple', 'exch': 'PNK', 'type': 'S', 'exchDisp': 'OTC Markets', 'typeDisp': 'Equity'}\n",
      "\n",
      " ***** \n",
      "\n",
      "Opción 1:\n",
      " {'symbol': 'BBAJIOO.MX', 'name': 'Banco del Bajio, S.A., Institucion de Banca Multiple', 'exch': 'MEX', 'type': 'S', 'exchDisp': 'Mexico', 'typeDisp': 'Equity'}\n",
      "\n",
      " ***** \n",
      "\n",
      "¿Cuál opción quieres?\n",
      "1\n",
      "Los datos para BBAJIOO.MX se bajaron sin pedos.\n",
      "\n",
      "Hay un total de 644 registros.\n"
     ]
    }
   ],
   "source": [
    "comp=ep.TimeSeries('Bajio',(2010,1,1),(2019,12,31))"
   ]
  },
  {
   "cell_type": "markdown",
   "metadata": {},
   "source": [
    "**Uno de los _lastres/castres_ principales de YahooFinance es que algunas compañías no tienen registros completos :c**"
   ]
  },
  {
   "cell_type": "code",
   "execution_count": 6,
   "metadata": {},
   "outputs": [
    {
     "data": {
      "text/plain": [
       "{'symbol': 'BBAJIOO.MX',\n",
       " 'name': 'Banco del Bajio, S.A., Institucion de Banca Multiple',\n",
       " 'exch': 'MEX',\n",
       " 'type': 'S',\n",
       " 'exchDisp': 'Mexico',\n",
       " 'typeDisp': 'Equity'}"
      ]
     },
     "execution_count": 6,
     "metadata": {},
     "output_type": "execute_result"
    }
   ],
   "source": [
    "comp.info"
   ]
  },
  {
   "cell_type": "markdown",
   "metadata": {},
   "source": [
    "# Bajar los datos de las compañías constituyentes\n",
    "\n",
    "Una posible forma de proceder (seguro se te ocurre alguna más chida :3) es definir el horizonte temporal de la descarga, definir una lista de (los tickers de las) compañías `(str)` y descargar los datos en un diccionario.\n",
    "\n",
    "Para conseguir los tickers, puedes usar la función `ep.query(company::str)`."
   ]
  },
  {
   "cell_type": "code",
   "execution_count": 7,
   "metadata": {},
   "outputs": [
    {
     "data": {
      "text/plain": [
       "[{'symbol': 'WMT',\n",
       "  'name': 'Walmart Inc.',\n",
       "  'exch': 'NYQ',\n",
       "  'type': 'S',\n",
       "  'exchDisp': 'NYSE',\n",
       "  'typeDisp': 'Equity'},\n",
       " {'symbol': 'WALM34.SA',\n",
       "  'name': 'Walmart Inc.',\n",
       "  'exch': 'SAO',\n",
       "  'type': 'S',\n",
       "  'exchDisp': 'Sao Paolo',\n",
       "  'typeDisp': 'Equity'},\n",
       " {'symbol': 'WMT.MX',\n",
       "  'name': 'Walmart Inc.',\n",
       "  'exch': 'YHD',\n",
       "  'type': 'S',\n",
       "  'exchDisp': 'Industry',\n",
       "  'typeDisp': 'Equity'},\n",
       " {'symbol': 'WMT.BA',\n",
       "  'name': 'Walmart Inc.',\n",
       "  'exch': 'BUE',\n",
       "  'type': 'S',\n",
       "  'exchDisp': 'Buenos Aires',\n",
       "  'typeDisp': 'Equity'},\n",
       " {'symbol': '0R1W.IL',\n",
       "  'name': 'WAL-MART STORES INC WALMART STO',\n",
       "  'exch': 'IOB',\n",
       "  'type': 'S',\n",
       "  'exchDisp': 'International Orderbook - London',\n",
       "  'typeDisp': 'Equity'},\n",
       " {'symbol': 'WMT.VI',\n",
       "  'name': 'Walmart Inc.',\n",
       "  'exch': 'VIE',\n",
       "  'type': 'S',\n",
       "  'exchDisp': 'Vienna',\n",
       "  'typeDisp': 'Equity'},\n",
       " {'symbol': 'WMT.DE',\n",
       "  'name': 'Walmart Inc.',\n",
       "  'exch': 'GER',\n",
       "  'type': 'S',\n",
       "  'exchDisp': 'XETRA',\n",
       "  'typeDisp': 'Equity'},\n",
       " {'symbol': 'WMT.SG',\n",
       "  'name': 'Walmart Inc. Registered Shares ',\n",
       "  'exch': 'STU',\n",
       "  'type': 'S',\n",
       "  'exchDisp': 'Stuttgart',\n",
       "  'typeDisp': 'Equity'},\n",
       " {'symbol': 'WMT.F',\n",
       "  'name': 'Walmart Inc.',\n",
       "  'exch': 'FRA',\n",
       "  'type': 'S',\n",
       "  'exchDisp': 'Frankfurt',\n",
       "  'typeDisp': 'Equity'}]"
      ]
     },
     "execution_count": 7,
     "metadata": {},
     "output_type": "execute_result"
    }
   ],
   "source": [
    "ep.query('Walmart')"
   ]
  },
  {
   "cell_type": "markdown",
   "metadata": {},
   "source": [
    "Para bajar los datos de una lista de _tickers_, puedes usar la función `ep.get(company::str,inicio::tuple,fin::tuple)`:"
   ]
  },
  {
   "cell_type": "code",
   "execution_count": 8,
   "metadata": {
    "scrolled": false
   },
   "outputs": [
    {
     "name": "stdout",
     "output_type": "stream",
     "text": [
      "Los datos para LABB.MX se bajaron sin pedos.\n",
      "\n",
      "Hay un total de 1373 registros.\n",
      "Los datos para GENTERA.MX se bajaron sin pedos.\n",
      "\n",
      "Hay un total de 1373 registros.\n",
      "Los datos para WMT.MX se bajaron sin pedos.\n",
      "\n",
      "Hay un total de 1373 registros.\n"
     ]
    }
   ],
   "source": [
    "lista=['LABB.MX','GENTERA.MX','WMT.MX'] #Genomma Lab, Gentera, Walmart\n",
    "datos=dict()\n",
    "inicio,fin=(2015,1,1),(2020,6,21)\n",
    "\n",
    "for s in lista:\n",
    "    datos[s]=ep.get(s,inicio,fin)"
   ]
  },
  {
   "cell_type": "markdown",
   "metadata": {},
   "source": [
    "Podemos ver qpdo con los últimos dos registros de Walmart."
   ]
  },
  {
   "cell_type": "code",
   "execution_count": 9,
   "metadata": {},
   "outputs": [
    {
     "data": {
      "text/plain": [
       "[{'date': '2020-06-17',\n",
       "  'open': 2671.530029,\n",
       "  'high': 2671.530029,\n",
       "  'low': 2650.5,\n",
       "  'close': 2650.5,\n",
       "  'adj_close': 2650.5,\n",
       "  'volume': 41031},\n",
       " {'date': '2020-06-18',\n",
       "  'open': 2656.0,\n",
       "  'high': 2700.0,\n",
       "  'low': 2656.0,\n",
       "  'close': 2689.0,\n",
       "  'adj_close': 2689.0,\n",
       "  'volume': 48222}]"
      ]
     },
     "execution_count": 9,
     "metadata": {},
     "output_type": "execute_result"
    }
   ],
   "source": [
    "datos['WMT.MX'][-3:-1]"
   ]
  },
  {
   "cell_type": "markdown",
   "metadata": {},
   "source": [
    "Este pedo se puede guardar en un archivo `json`:"
   ]
  },
  {
   "cell_type": "code",
   "execution_count": 10,
   "metadata": {},
   "outputs": [],
   "source": [
    "with open('datos.json','w+') as arshivo:\n",
    "    json.dump(datos,arshivo,ensure_ascii=False,indent=4) #Esto acomoda chido los datos y te deja usar UTF-8"
   ]
  },
  {
   "cell_type": "markdown",
   "metadata": {},
   "source": [
    "# Mezclar los datos en una tabla sincronizada\n",
    "Vamos a pensar sólo en los precios de cierre ajustados (_key_ `adj_close`, que consideran una corrección relacionada con el [reparto de dividendos](https://www.investopedia.com/terms/a/adjusted_closing_price.asp))."
   ]
  },
  {
   "cell_type": "code",
   "execution_count": 11,
   "metadata": {
    "scrolled": true
   },
   "outputs": [
    {
     "data": {
      "text/html": [
       "<div>\n",
       "<style scoped>\n",
       "    .dataframe tbody tr th:only-of-type {\n",
       "        vertical-align: middle;\n",
       "    }\n",
       "\n",
       "    .dataframe tbody tr th {\n",
       "        vertical-align: top;\n",
       "    }\n",
       "\n",
       "    .dataframe thead th {\n",
       "        text-align: right;\n",
       "    }\n",
       "</style>\n",
       "<table border=\"1\" class=\"dataframe\">\n",
       "  <thead>\n",
       "    <tr style=\"text-align: right;\">\n",
       "      <th></th>\n",
       "      <th>LABB.MX</th>\n",
       "      <th>GENTERA.MX</th>\n",
       "      <th>WMT.MX</th>\n",
       "    </tr>\n",
       "  </thead>\n",
       "  <tbody>\n",
       "    <tr>\n",
       "      <th>2015-01-02</th>\n",
       "      <td>26.190001</td>\n",
       "      <td>23.955343</td>\n",
       "      <td>1271.396484</td>\n",
       "    </tr>\n",
       "    <tr>\n",
       "      <th>2015-01-05</th>\n",
       "      <td>24.420000</td>\n",
       "      <td>23.334867</td>\n",
       "      <td>1271.396484</td>\n",
       "    </tr>\n",
       "    <tr>\n",
       "      <th>2015-01-06</th>\n",
       "      <td>25.160000</td>\n",
       "      <td>23.988884</td>\n",
       "      <td>1278.802612</td>\n",
       "    </tr>\n",
       "    <tr>\n",
       "      <th>2015-01-07</th>\n",
       "      <td>25.070000</td>\n",
       "      <td>23.544487</td>\n",
       "      <td>1294.409424</td>\n",
       "    </tr>\n",
       "    <tr>\n",
       "      <th>2015-01-08</th>\n",
       "      <td>25.110001</td>\n",
       "      <td>23.703800</td>\n",
       "      <td>1311.485718</td>\n",
       "    </tr>\n",
       "    <tr>\n",
       "      <th>...</th>\n",
       "      <td>...</td>\n",
       "      <td>...</td>\n",
       "      <td>...</td>\n",
       "    </tr>\n",
       "    <tr>\n",
       "      <th>2020-06-15</th>\n",
       "      <td>20.100000</td>\n",
       "      <td>10.430000</td>\n",
       "      <td>2616.179932</td>\n",
       "    </tr>\n",
       "    <tr>\n",
       "      <th>2020-06-16</th>\n",
       "      <td>20.350000</td>\n",
       "      <td>10.360000</td>\n",
       "      <td>2664.000000</td>\n",
       "    </tr>\n",
       "    <tr>\n",
       "      <th>2020-06-17</th>\n",
       "      <td>20.480000</td>\n",
       "      <td>10.350000</td>\n",
       "      <td>2650.500000</td>\n",
       "    </tr>\n",
       "    <tr>\n",
       "      <th>2020-06-18</th>\n",
       "      <td>20.000000</td>\n",
       "      <td>10.200000</td>\n",
       "      <td>2689.000000</td>\n",
       "    </tr>\n",
       "    <tr>\n",
       "      <th>2020-06-19</th>\n",
       "      <td>19.969999</td>\n",
       "      <td>10.730000</td>\n",
       "      <td>2696.479980</td>\n",
       "    </tr>\n",
       "  </tbody>\n",
       "</table>\n",
       "<p>1373 rows × 3 columns</p>\n",
       "</div>"
      ],
      "text/plain": [
       "              LABB.MX  GENTERA.MX       WMT.MX\n",
       "2015-01-02  26.190001   23.955343  1271.396484\n",
       "2015-01-05  24.420000   23.334867  1271.396484\n",
       "2015-01-06  25.160000   23.988884  1278.802612\n",
       "2015-01-07  25.070000   23.544487  1294.409424\n",
       "2015-01-08  25.110001   23.703800  1311.485718\n",
       "...               ...         ...          ...\n",
       "2020-06-15  20.100000   10.430000  2616.179932\n",
       "2020-06-16  20.350000   10.360000  2664.000000\n",
       "2020-06-17  20.480000   10.350000  2650.500000\n",
       "2020-06-18  20.000000   10.200000  2689.000000\n",
       "2020-06-19  19.969999   10.730000  2696.479980\n",
       "\n",
       "[1373 rows x 3 columns]"
      ]
     },
     "execution_count": 11,
     "metadata": {},
     "output_type": "execute_result"
    }
   ],
   "source": [
    "tabla=pd.DataFrame()\n",
    "\n",
    "for comp,dat in datos.items():\n",
    "    X0=pd.DataFrame([x['adj_close'] for x in dat],\n",
    "                    index=[pd.to_datetime(x['date']) for x in dat],\n",
    "                    columns=[comp])\n",
    "    tabla = pd.concat([tabla, X0], axis=1)\n",
    "    \n",
    "tabla"
   ]
  },
  {
   "cell_type": "markdown",
   "metadata": {},
   "source": [
    "Y con un `DataFrame` de Pandas ya es más fácil calcular, por ejemplo, los rendimientos (logarítmicos)"
   ]
  },
  {
   "cell_type": "code",
   "execution_count": 12,
   "metadata": {},
   "outputs": [
    {
     "data": {
      "text/html": [
       "<div>\n",
       "<style scoped>\n",
       "    .dataframe tbody tr th:only-of-type {\n",
       "        vertical-align: middle;\n",
       "    }\n",
       "\n",
       "    .dataframe tbody tr th {\n",
       "        vertical-align: top;\n",
       "    }\n",
       "\n",
       "    .dataframe thead th {\n",
       "        text-align: right;\n",
       "    }\n",
       "</style>\n",
       "<table border=\"1\" class=\"dataframe\">\n",
       "  <thead>\n",
       "    <tr style=\"text-align: right;\">\n",
       "      <th></th>\n",
       "      <th>LABB.MX</th>\n",
       "      <th>GENTERA.MX</th>\n",
       "      <th>WMT.MX</th>\n",
       "    </tr>\n",
       "  </thead>\n",
       "  <tbody>\n",
       "    <tr>\n",
       "      <th>2015-01-05</th>\n",
       "      <td>-0.069975</td>\n",
       "      <td>-0.026243</td>\n",
       "      <td>0.000000</td>\n",
       "    </tr>\n",
       "    <tr>\n",
       "      <th>2015-01-06</th>\n",
       "      <td>0.029853</td>\n",
       "      <td>0.027642</td>\n",
       "      <td>0.005808</td>\n",
       "    </tr>\n",
       "    <tr>\n",
       "      <th>2015-01-07</th>\n",
       "      <td>-0.003584</td>\n",
       "      <td>-0.018699</td>\n",
       "      <td>0.012130</td>\n",
       "    </tr>\n",
       "    <tr>\n",
       "      <th>2015-01-08</th>\n",
       "      <td>0.001594</td>\n",
       "      <td>0.006744</td>\n",
       "      <td>0.013106</td>\n",
       "    </tr>\n",
       "    <tr>\n",
       "      <th>2015-01-09</th>\n",
       "      <td>-0.011616</td>\n",
       "      <td>-0.006388</td>\n",
       "      <td>-0.011014</td>\n",
       "    </tr>\n",
       "    <tr>\n",
       "      <th>...</th>\n",
       "      <td>...</td>\n",
       "      <td>...</td>\n",
       "      <td>...</td>\n",
       "    </tr>\n",
       "    <tr>\n",
       "      <th>2020-06-15</th>\n",
       "      <td>-0.004963</td>\n",
       "      <td>-0.009542</td>\n",
       "      <td>-0.005269</td>\n",
       "    </tr>\n",
       "    <tr>\n",
       "      <th>2020-06-16</th>\n",
       "      <td>0.012361</td>\n",
       "      <td>-0.006734</td>\n",
       "      <td>0.018114</td>\n",
       "    </tr>\n",
       "    <tr>\n",
       "      <th>2020-06-17</th>\n",
       "      <td>0.006368</td>\n",
       "      <td>-0.000966</td>\n",
       "      <td>-0.005080</td>\n",
       "    </tr>\n",
       "    <tr>\n",
       "      <th>2020-06-18</th>\n",
       "      <td>-0.023717</td>\n",
       "      <td>-0.014599</td>\n",
       "      <td>0.014421</td>\n",
       "    </tr>\n",
       "    <tr>\n",
       "      <th>2020-06-19</th>\n",
       "      <td>-0.001501</td>\n",
       "      <td>0.050656</td>\n",
       "      <td>0.002778</td>\n",
       "    </tr>\n",
       "  </tbody>\n",
       "</table>\n",
       "<p>1372 rows × 3 columns</p>\n",
       "</div>"
      ],
      "text/plain": [
       "             LABB.MX  GENTERA.MX    WMT.MX\n",
       "2015-01-05 -0.069975   -0.026243  0.000000\n",
       "2015-01-06  0.029853    0.027642  0.005808\n",
       "2015-01-07 -0.003584   -0.018699  0.012130\n",
       "2015-01-08  0.001594    0.006744  0.013106\n",
       "2015-01-09 -0.011616   -0.006388 -0.011014\n",
       "...              ...         ...       ...\n",
       "2020-06-15 -0.004963   -0.009542 -0.005269\n",
       "2020-06-16  0.012361   -0.006734  0.018114\n",
       "2020-06-17  0.006368   -0.000966 -0.005080\n",
       "2020-06-18 -0.023717   -0.014599  0.014421\n",
       "2020-06-19 -0.001501    0.050656  0.002778\n",
       "\n",
       "[1372 rows x 3 columns]"
      ]
     },
     "execution_count": 12,
     "metadata": {},
     "output_type": "execute_result"
    }
   ],
   "source": [
    "tabla_rends=pd.DataFrame(np.diff(np.log(tabla),axis=0),index=tabla.index[1:],columns=tabla.columns)\n",
    "tabla_rends"
   ]
  },
  {
   "cell_type": "markdown",
   "metadata": {},
   "source": [
    "# Gráfica de la matriz de correlación"
   ]
  },
  {
   "cell_type": "markdown",
   "metadata": {},
   "source": [
    "Primero calculamos la matriz de correlación. Las instancias `DataFrame` de Pandas tienen un método útil: `DataFrame.corr()`."
   ]
  },
  {
   "cell_type": "code",
   "execution_count": 13,
   "metadata": {},
   "outputs": [],
   "source": [
    "corr=tabla_rends.corr()"
   ]
  },
  {
   "cell_type": "markdown",
   "metadata": {},
   "source": [
    "Graficamos con unos colores bien bergas."
   ]
  },
  {
   "cell_type": "code",
   "execution_count": 14,
   "metadata": {},
   "outputs": [
    {
     "data": {
      "text/plain": [
       "Text(0.5, 0.98, 'Matriz de correlación (01/2015 - 06/2020)')"
      ]
     },
     "execution_count": 14,
     "metadata": {},
     "output_type": "execute_result"
    },
    {
     "data": {
      "image/png": "[encoded data removed]",
      "text/plain": [
       "<Figure size 576x576 with 2 Axes>"
      ]
     },
     "metadata": {
      "needs_background": "light"
     },
     "output_type": "display_data"
    }
   ],
   "source": [
    "colores='cool'\n",
    "\n",
    "fig, axes = plt.subplots(nrows=1, ncols=1, figsize=(8,8))\n",
    "\n",
    "cax=axes.matshow(corr,cmap=colores)\n",
    "fig.colorbar(cax,shrink=0.82)\n",
    "\n",
    "axes.set_title('Componentes: {}'.format(tabla_rends.columns.values),fontsize=15)\n",
    "\n",
    "plt.suptitle('Matriz de correlación ({:%m/%Y} - {:%m/%Y})'.format(\n",
    "    tabla_rends.index[0],tabla_rends.index[-1]),fontsize=18)"
   ]
  },
  {
   "cell_type": "markdown",
   "metadata": {},
   "source": [
    "Puedes guardar la tabla de los rendimientos logarítmicos en formato `CSV`."
   ]
  },
  {
   "cell_type": "code",
   "execution_count": 15,
   "metadata": {},
   "outputs": [],
   "source": [
    "tabla_rends.to_csv('rendimientos.csv')"
   ]
  }
 ],
 "metadata": {
  "kernelspec": {
   "display_name": "Python 3",
   "language": "python",
   "name": "python3"
  },
  "language_info": {
   "codemirror_mode": {
    "name": "ipython",
    "version": 3
   },
   "file_extension": ".py",
   "mimetype": "text/x-python",
   "name": "python",
   "nbconvert_exporter": "python",
   "pygments_lexer": "ipython3",
   "version": "3.8.3"
  }
 },
 "nbformat": 4,
 "nbformat_minor": 2
}
